{
 "cells": [
  {
   "cell_type": "code",
   "execution_count": 67,
   "id": "026a4331-6312-4a4c-bae0-fff801ccdb00",
   "metadata": {},
   "outputs": [],
   "source": [
    "import numpy as np\n",
    "import matplotlib.pyplot as plt\n",
    "\n",
    "# 假设的目标函数\n",
    "def calculate_core_loss(x):\n",
    "    # 计算磁芯损耗的示例函数\n",
    "    p = x['T'] + x['f'] + x['W'] + x['B_m'] + x['M']\n",
    "    P = np.array(p)\n",
    "    return P  # 这里用平方和作为损耗的示例\n",
    "\n",
    "def calculate_energy_transfer(x):\n",
    "    e = x['f'] * x['B_m']\n",
    "    E = np.array(e)\n",
    "    return E  # 这里用负的平方和作为能量传输的示例\n",
    "\n",
    "# 目标函数\n",
    "def objective_functions(x):\n",
    "    P = calculate_core_loss(x)  # 磁芯损耗\n",
    "    E = calculate_energy_transfer(x)  # 传输磁能\n",
    "    return P, -E  # 返回损耗和负的能量\n",
    "\n",
    "\n"
   ]
  },
  {
   "cell_type": "code",
   "execution_count": null,
   "id": "6c21f279-3f74-4c58-842b-c770a7b2eef4",
   "metadata": {},
   "outputs": [],
   "source": [
    "#objectives = np.array([objective_functions(x) for x in population]) 2.7 3.6"
   ]
  },
  {
   "cell_type": "code",
   "execution_count": 68,
   "id": "65f7f57a-1e87-41d9-a381-a8b6a6e160a3",
   "metadata": {},
   "outputs": [],
   "source": [
    "P, E= objective_functions(df_g)"
   ]
  },
  {
   "cell_type": "code",
   "execution_count": 69,
   "id": "5abaf4d5-b343-4d96-b865-963cf8a87da7",
   "metadata": {},
   "outputs": [
    {
     "data": {
      "text/plain": [
       "array([50057.01461734, 50051.01524825, 50052.01435666, 50049.01952671,\n",
       "       50059.02290178])"
      ]
     },
     "execution_count": 69,
     "metadata": {},
     "output_type": "execute_result"
    }
   ],
   "source": [
    "P"
   ]
  },
  {
   "cell_type": "code",
   "execution_count": 65,
   "id": "3c46d32b-6a44-4741-828d-80eb61d7a6f4",
   "metadata": {},
   "outputs": [],
   "source": [
    "p = np.array(P)"
   ]
  },
  {
   "cell_type": "code",
   "execution_count": 66,
   "id": "18e18d81-4488-4942-9374-aa2f23e7992b",
   "metadata": {},
   "outputs": [
    {
     "data": {
      "text/plain": [
       "array([50057.01461734, 50051.01524825, 50052.01435666, 50049.01952671,\n",
       "       50059.02290178])"
      ]
     },
     "execution_count": 66,
     "metadata": {},
     "output_type": "execute_result"
    }
   ],
   "source": [
    "p"
   ]
  },
  {
   "cell_type": "code",
   "execution_count": 52,
   "id": "572f2c13-69da-437e-acb1-cba1836c9373",
   "metadata": {},
   "outputs": [],
   "source": [
    "E = 0 - E"
   ]
  },
  {
   "cell_type": "code",
   "execution_count": 53,
   "id": "b694a728-10e5-40c8-b02b-9d70faff046d",
   "metadata": {},
   "outputs": [
    {
     "data": {
      "text/plain": [
       "0     731.305570\n",
       "1     762.717515\n",
       "2     718.120333\n",
       "3     976.725834\n",
       "4    1145.775853\n",
       "dtype: float64"
      ]
     },
     "execution_count": 53,
     "metadata": {},
     "output_type": "execute_result"
    }
   ],
   "source": [
    "E"
   ]
  },
  {
   "cell_type": "code",
   "execution_count": 42,
   "id": "8a1a586d-59a1-4090-9a12-2e5a010517c4",
   "metadata": {},
   "outputs": [],
   "source": [
    "# 非支配排序\n",
    "def non_dominated_sort(population):\n",
    "    num_individuals = len(population)\n",
    "    fronts = [[]]\n",
    "    domination_counts = np.zeros(num_individuals)\n",
    "    dominated_solutions = [[] for _ in range(num_individuals)]\n",
    "    \n",
    "    for p in range(num_individuals):\n",
    "        for q in range(num_individuals):\n",
    "            if p != q:\n",
    "                if (population[p][0] <= population[q][0] and population[p][1] < population[q][1]) or \\\n",
    "                   (population[p][0] < population[q][0] and population[p][1] <= population[q][1]):\n",
    "                    dominated_solutions[p].append(q)\n",
    "                elif (population[q][0] <= population[p][0] and population[q][1] < population[p][1]) or \\\n",
    "                     (population[q][0] < population[p][0] and population[q][1] <= population[p][1]):\n",
    "                    domination_counts[p] += 1\n",
    "                    \n",
    "        if domination_counts[p] == 0:\n",
    "            fronts[0].append(p)\n",
    "    \n",
    "    current_front = 0\n",
    "    while len(fronts[current_front]) > 0:\n",
    "        next_front = []\n",
    "        for p in fronts[current_front]:\n",
    "            for q in dominated_solutions[p]:\n",
    "                domination_counts[q] -= 1\n",
    "                if domination_counts[q] == 0:\n",
    "                    next_front.append(q)\n",
    "        current_front += 1\n",
    "        fronts.append(next_front)\n",
    "    \n",
    "    return fronts[:-1]"
   ]
  },
  {
   "cell_type": "code",
   "execution_count": 85,
   "id": "0214bb9d-f2c6-4126-a91a-cca65f5ce02e",
   "metadata": {},
   "outputs": [
    {
     "data": {
      "text/plain": [
       "[[3, 4], [1], [0, 2]]"
      ]
     },
     "execution_count": 85,
     "metadata": {},
     "output_type": "execute_result"
    }
   ],
   "source": [
    "non_dominated_sort(objectives)"
   ]
  },
  {
   "cell_type": "code",
   "execution_count": 43,
   "id": "df1a48ac-9c11-43ee-b0f4-b05f61374b43",
   "metadata": {},
   "outputs": [],
   "source": [
    "# 生成初始种群\n",
    "def generate_population(size, num_variables):\n",
    "    return np.random.rand(size, num_variables) * 5  # 假设变量范围是0到5\n",
    "\n",
    "# 选择操作\n",
    "def selection(population, fronts):\n",
    "    selected = []\n",
    "    for front in fronts:\n",
    "        if len(selected) + len(front) > len(population):\n",
    "            break\n",
    "        selected.extend(front)\n",
    "    return selected"
   ]
  },
  {
   "cell_type": "code",
   "execution_count": null,
   "id": "8b315399-17f0-46b3-9e92-39d74bfaa57d",
   "metadata": {},
   "outputs": [],
   "source": []
  },
  {
   "cell_type": "code",
   "execution_count": 44,
   "id": "b1baba03-9334-469e-91cb-dd59d9e5c8ea",
   "metadata": {},
   "outputs": [],
   "source": [
    "# 交叉和变异\n",
    "def crossover_and_mutate(population):\n",
    "    np.random.shuffle(population)\n",
    "    new_population = []\n",
    "    for i in range(0, len(population), 2):\n",
    "        if i + 1 < len(population):\n",
    "            child1 = (population[i] + population[i + 1]) / 2\n",
    "            child2 = (population[i] + population[i + 1]) / 2 + np.random.normal(0, 0.1, population[i].shape)\n",
    "            new_population.append(child1)\n",
    "            new_population.append(child2)\n",
    "    return np.clip(np.array(new_population), 0, 5)  # 保证变量在范围内\n"
   ]
  },
  {
   "cell_type": "code",
   "execution_count": 46,
   "id": "6b830424-219b-4c17-8c6f-3fc9078b02f5",
   "metadata": {},
   "outputs": [],
   "source": [
    "# NSGA-II主循环\n",
    "def nsga_ii(num_generations, population_size, num_variables):\n",
    "    population = generate_population(population_size, num_variables)\n",
    "    for _ in range(num_generations):\n",
    "        objectives = np.array([objective_functions(x) for x in population])\n",
    "        fronts = non_dominated_sort(objectives)\n",
    "        selected_indices = selection(population, fronts)\n",
    "        population = crossover_and_mutate(population[selected_indices])\n",
    "    \n",
    "    return population"
   ]
  },
  {
   "cell_type": "code",
   "execution_count": 57,
   "id": "4818576a-f28c-4b52-affa-0baae655ea5c",
   "metadata": {},
   "outputs": [],
   "source": [
    "population = generate_population(population_size, num_variables)"
   ]
  },
  {
   "cell_type": "code",
   "execution_count": 59,
   "id": "135fae29-7b09-4d23-a57a-a6f421d0e5df",
   "metadata": {},
   "outputs": [
    {
     "data": {
      "text/plain": [
       "array([[2.73874536, 4.91036253],\n",
       "       [3.74354445, 3.05207984],\n",
       "       [1.66388464, 0.81525921],\n",
       "       [1.77571132, 4.69256191],\n",
       "       [3.43454328, 3.90177367],\n",
       "       [1.65247104, 2.26505023],\n",
       "       [3.81740611, 3.77756193],\n",
       "       [4.40770309, 1.45547279],\n",
       "       [1.24878264, 3.87731311],\n",
       "       [2.16068746, 0.35146675],\n",
       "       [1.61128098, 4.92879292],\n",
       "       [0.12525635, 4.66192027],\n",
       "       [3.68762356, 0.25667103],\n",
       "       [0.4461662 , 1.868183  ],\n",
       "       [3.73989074, 4.52936832],\n",
       "       [2.51885429, 0.644051  ],\n",
       "       [2.54360032, 3.71680713],\n",
       "       [0.0403196 , 1.87608066],\n",
       "       [3.24353096, 2.77737769],\n",
       "       [2.01316771, 2.24932876],\n",
       "       [1.13580766, 3.73686191],\n",
       "       [1.21215043, 2.20304258],\n",
       "       [1.42215251, 0.69912817],\n",
       "       [1.56343665, 3.71862118],\n",
       "       [2.12902627, 1.63522939],\n",
       "       [1.98140699, 1.03748528],\n",
       "       [2.55993544, 2.78295723],\n",
       "       [1.92519744, 1.8426099 ],\n",
       "       [4.12635226, 3.89685823],\n",
       "       [1.94589375, 0.24820218],\n",
       "       [1.05705652, 1.17579821],\n",
       "       [1.45634562, 1.91569635],\n",
       "       [1.23165612, 4.55286013],\n",
       "       [3.76652523, 0.76005471],\n",
       "       [3.68452595, 0.11075036],\n",
       "       [1.98087371, 3.23526351],\n",
       "       [1.2634066 , 2.46933132],\n",
       "       [1.6562507 , 3.44131552],\n",
       "       [0.12832386, 2.80435882],\n",
       "       [0.87231024, 4.66161495],\n",
       "       [0.86657732, 0.13587778],\n",
       "       [0.16523263, 4.48350427],\n",
       "       [1.00948484, 0.6431941 ],\n",
       "       [0.06770819, 4.67520004],\n",
       "       [2.23260353, 3.60757931],\n",
       "       [1.17812632, 2.23316768],\n",
       "       [2.88769626, 1.69329876],\n",
       "       [4.57862061, 1.46326886],\n",
       "       [1.74996091, 2.43121607],\n",
       "       [3.25571747, 3.41833938]])"
      ]
     },
     "execution_count": 59,
     "metadata": {},
     "output_type": "execute_result"
    }
   ],
   "source": [
    "population"
   ]
  },
  {
   "cell_type": "code",
   "execution_count": 81,
   "id": "845796b4-ddea-456b-814b-0551d52a2cc4",
   "metadata": {},
   "outputs": [
    {
     "ename": "TypeError",
     "evalue": "string indices must be integers",
     "output_type": "error",
     "traceback": [
      "\u001b[1;31m---------------------------------------------------------------------------\u001b[0m",
      "\u001b[1;31mTypeError\u001b[0m                                 Traceback (most recent call last)",
      "Cell \u001b[1;32mIn[81], line 1\u001b[0m\n\u001b[1;32m----> 1\u001b[0m [objective_functions(x) \u001b[38;5;28;01mfor\u001b[39;00m x \u001b[38;5;129;01min\u001b[39;00m df_g]\n",
      "Cell \u001b[1;32mIn[81], line 1\u001b[0m, in \u001b[0;36m<listcomp>\u001b[1;34m(.0)\u001b[0m\n\u001b[1;32m----> 1\u001b[0m [\u001b[43mobjective_functions\u001b[49m\u001b[43m(\u001b[49m\u001b[43mx\u001b[49m\u001b[43m)\u001b[49m \u001b[38;5;28;01mfor\u001b[39;00m x \u001b[38;5;129;01min\u001b[39;00m df_g]\n",
      "Cell \u001b[1;32mIn[67], line 18\u001b[0m, in \u001b[0;36mobjective_functions\u001b[1;34m(x)\u001b[0m\n\u001b[0;32m     17\u001b[0m \u001b[38;5;28;01mdef\u001b[39;00m \u001b[38;5;21mobjective_functions\u001b[39m(x):\n\u001b[1;32m---> 18\u001b[0m     P \u001b[38;5;241m=\u001b[39m \u001b[43mcalculate_core_loss\u001b[49m\u001b[43m(\u001b[49m\u001b[43mx\u001b[49m\u001b[43m)\u001b[49m  \u001b[38;5;66;03m# 磁芯损耗\u001b[39;00m\n\u001b[0;32m     19\u001b[0m     E \u001b[38;5;241m=\u001b[39m calculate_energy_transfer(x)  \u001b[38;5;66;03m# 传输磁能\u001b[39;00m\n\u001b[0;32m     20\u001b[0m     \u001b[38;5;28;01mreturn\u001b[39;00m P, \u001b[38;5;241m-\u001b[39mE\n",
      "Cell \u001b[1;32mIn[67], line 7\u001b[0m, in \u001b[0;36mcalculate_core_loss\u001b[1;34m(x)\u001b[0m\n\u001b[0;32m      5\u001b[0m \u001b[38;5;28;01mdef\u001b[39;00m \u001b[38;5;21mcalculate_core_loss\u001b[39m(x):\n\u001b[0;32m      6\u001b[0m     \u001b[38;5;66;03m# 计算磁芯损耗的示例函数\u001b[39;00m\n\u001b[1;32m----> 7\u001b[0m     p \u001b[38;5;241m=\u001b[39m \u001b[43mx\u001b[49m\u001b[43m[\u001b[49m\u001b[38;5;124;43m'\u001b[39;49m\u001b[38;5;124;43mT\u001b[39;49m\u001b[38;5;124;43m'\u001b[39;49m\u001b[43m]\u001b[49m \u001b[38;5;241m+\u001b[39m x[\u001b[38;5;124m'\u001b[39m\u001b[38;5;124mf\u001b[39m\u001b[38;5;124m'\u001b[39m] \u001b[38;5;241m+\u001b[39m x[\u001b[38;5;124m'\u001b[39m\u001b[38;5;124mW\u001b[39m\u001b[38;5;124m'\u001b[39m] \u001b[38;5;241m+\u001b[39m x[\u001b[38;5;124m'\u001b[39m\u001b[38;5;124mB_m\u001b[39m\u001b[38;5;124m'\u001b[39m] \u001b[38;5;241m+\u001b[39m x[\u001b[38;5;124m'\u001b[39m\u001b[38;5;124mM\u001b[39m\u001b[38;5;124m'\u001b[39m]\n\u001b[0;32m      8\u001b[0m     P \u001b[38;5;241m=\u001b[39m np\u001b[38;5;241m.\u001b[39marray(p)\n\u001b[0;32m      9\u001b[0m     \u001b[38;5;28;01mreturn\u001b[39;00m P\n",
      "\u001b[1;31mTypeError\u001b[0m: string indices must be integers"
     ]
    }
   ],
   "source": [
    "[objective_functions(x) for x in df_g]"
   ]
  },
  {
   "cell_type": "code",
   "execution_count": 82,
   "id": "83e7caa7-1023-4392-be33-1bf496116d23",
   "metadata": {},
   "outputs": [],
   "source": [
    "objectives = np.array([objective_functions(row) for _, row in df_g.iterrows()])"
   ]
  },
  {
   "cell_type": "code",
   "execution_count": 83,
   "id": "613f66a1-6018-497c-bcf8-890dd923febd",
   "metadata": {},
   "outputs": [
    {
     "data": {
      "text/plain": [
       "array([[50057.01461734,  -731.30557023],\n",
       "       [50051.01524825,  -762.71751502],\n",
       "       [50052.01435666,  -718.12033328],\n",
       "       [50049.01952671,  -976.72583412],\n",
       "       [50059.02290178, -1145.77585328]])"
      ]
     },
     "execution_count": 83,
     "metadata": {},
     "output_type": "execute_result"
    }
   ],
   "source": [
    "objectives"
   ]
  },
  {
   "cell_type": "code",
   "execution_count": 77,
   "id": "40c5721b-eff4-400d-8f69-cf3b298357cc",
   "metadata": {},
   "outputs": [
    {
     "ename": "TypeError",
     "evalue": "string indices must be integers",
     "output_type": "error",
     "traceback": [
      "\u001b[1;31m---------------------------------------------------------------------------\u001b[0m",
      "\u001b[1;31mTypeError\u001b[0m                                 Traceback (most recent call last)",
      "Cell \u001b[1;32mIn[77], line 1\u001b[0m\n\u001b[1;32m----> 1\u001b[0m objectives \u001b[38;5;241m=\u001b[39m np\u001b[38;5;241m.\u001b[39marray([objective_functions(x) \u001b[38;5;28;01mfor\u001b[39;00m x \u001b[38;5;129;01min\u001b[39;00m df_g])\n",
      "Cell \u001b[1;32mIn[77], line 1\u001b[0m, in \u001b[0;36m<listcomp>\u001b[1;34m(.0)\u001b[0m\n\u001b[1;32m----> 1\u001b[0m objectives \u001b[38;5;241m=\u001b[39m np\u001b[38;5;241m.\u001b[39marray([\u001b[43mobjective_functions\u001b[49m\u001b[43m(\u001b[49m\u001b[43mx\u001b[49m\u001b[43m)\u001b[49m \u001b[38;5;28;01mfor\u001b[39;00m x \u001b[38;5;129;01min\u001b[39;00m df_g])\n",
      "Cell \u001b[1;32mIn[67], line 18\u001b[0m, in \u001b[0;36mobjective_functions\u001b[1;34m(x)\u001b[0m\n\u001b[0;32m     17\u001b[0m \u001b[38;5;28;01mdef\u001b[39;00m \u001b[38;5;21mobjective_functions\u001b[39m(x):\n\u001b[1;32m---> 18\u001b[0m     P \u001b[38;5;241m=\u001b[39m \u001b[43mcalculate_core_loss\u001b[49m\u001b[43m(\u001b[49m\u001b[43mx\u001b[49m\u001b[43m)\u001b[49m  \u001b[38;5;66;03m# 磁芯损耗\u001b[39;00m\n\u001b[0;32m     19\u001b[0m     E \u001b[38;5;241m=\u001b[39m calculate_energy_transfer(x)  \u001b[38;5;66;03m# 传输磁能\u001b[39;00m\n\u001b[0;32m     20\u001b[0m     \u001b[38;5;28;01mreturn\u001b[39;00m P, \u001b[38;5;241m-\u001b[39mE\n",
      "Cell \u001b[1;32mIn[67], line 7\u001b[0m, in \u001b[0;36mcalculate_core_loss\u001b[1;34m(x)\u001b[0m\n\u001b[0;32m      5\u001b[0m \u001b[38;5;28;01mdef\u001b[39;00m \u001b[38;5;21mcalculate_core_loss\u001b[39m(x):\n\u001b[0;32m      6\u001b[0m     \u001b[38;5;66;03m# 计算磁芯损耗的示例函数\u001b[39;00m\n\u001b[1;32m----> 7\u001b[0m     p \u001b[38;5;241m=\u001b[39m \u001b[43mx\u001b[49m\u001b[43m[\u001b[49m\u001b[38;5;124;43m'\u001b[39;49m\u001b[38;5;124;43mT\u001b[39;49m\u001b[38;5;124;43m'\u001b[39;49m\u001b[43m]\u001b[49m \u001b[38;5;241m+\u001b[39m x[\u001b[38;5;124m'\u001b[39m\u001b[38;5;124mf\u001b[39m\u001b[38;5;124m'\u001b[39m] \u001b[38;5;241m+\u001b[39m x[\u001b[38;5;124m'\u001b[39m\u001b[38;5;124mW\u001b[39m\u001b[38;5;124m'\u001b[39m] \u001b[38;5;241m+\u001b[39m x[\u001b[38;5;124m'\u001b[39m\u001b[38;5;124mB_m\u001b[39m\u001b[38;5;124m'\u001b[39m] \u001b[38;5;241m+\u001b[39m x[\u001b[38;5;124m'\u001b[39m\u001b[38;5;124mM\u001b[39m\u001b[38;5;124m'\u001b[39m]\n\u001b[0;32m      8\u001b[0m     P \u001b[38;5;241m=\u001b[39m np\u001b[38;5;241m.\u001b[39marray(p)\n\u001b[0;32m      9\u001b[0m     \u001b[38;5;28;01mreturn\u001b[39;00m P\n",
      "\u001b[1;31mTypeError\u001b[0m: string indices must be integers"
     ]
    }
   ],
   "source": [
    "objectives = np.array([objective_functions(x) for x in df_g])"
   ]
  },
  {
   "cell_type": "code",
   "execution_count": 54,
   "id": "6debd636-b2e7-4e80-9e99-a5eb56f71361",
   "metadata": {},
   "outputs": [
    {
     "ename": "IndexError",
     "evalue": "only integers, slices (`:`), ellipsis (`...`), numpy.newaxis (`None`) and integer or boolean arrays are valid indices",
     "output_type": "error",
     "traceback": [
      "\u001b[1;31m---------------------------------------------------------------------------\u001b[0m",
      "\u001b[1;31mIndexError\u001b[0m                                Traceback (most recent call last)",
      "Cell \u001b[1;32mIn[54], line 6\u001b[0m\n\u001b[0;32m      4\u001b[0m population_size \u001b[38;5;241m=\u001b[39m \u001b[38;5;241m50\u001b[39m\n\u001b[0;32m      5\u001b[0m num_variables \u001b[38;5;241m=\u001b[39m \u001b[38;5;241m2\u001b[39m\n\u001b[1;32m----> 6\u001b[0m final_population \u001b[38;5;241m=\u001b[39m \u001b[43mnsga_ii\u001b[49m\u001b[43m(\u001b[49m\u001b[43mnum_generations\u001b[49m\u001b[43m,\u001b[49m\u001b[43m \u001b[49m\u001b[43mpopulation_size\u001b[49m\u001b[43m,\u001b[49m\u001b[43m \u001b[49m\u001b[43mnum_variables\u001b[49m\u001b[43m)\u001b[49m\n",
      "Cell \u001b[1;32mIn[46], line 5\u001b[0m, in \u001b[0;36mnsga_ii\u001b[1;34m(num_generations, population_size, num_variables)\u001b[0m\n\u001b[0;32m      3\u001b[0m population \u001b[38;5;241m=\u001b[39m generate_population(population_size, num_variables)\n\u001b[0;32m      4\u001b[0m \u001b[38;5;28;01mfor\u001b[39;00m _ \u001b[38;5;129;01min\u001b[39;00m \u001b[38;5;28mrange\u001b[39m(num_generations):\n\u001b[1;32m----> 5\u001b[0m     objectives \u001b[38;5;241m=\u001b[39m np\u001b[38;5;241m.\u001b[39marray([objective_functions(x) \u001b[38;5;28;01mfor\u001b[39;00m x \u001b[38;5;129;01min\u001b[39;00m population])\n\u001b[0;32m      6\u001b[0m     fronts \u001b[38;5;241m=\u001b[39m non_dominated_sort(objectives)\n\u001b[0;32m      7\u001b[0m     selected_indices \u001b[38;5;241m=\u001b[39m selection(population, fronts)\n",
      "Cell \u001b[1;32mIn[46], line 5\u001b[0m, in \u001b[0;36m<listcomp>\u001b[1;34m(.0)\u001b[0m\n\u001b[0;32m      3\u001b[0m population \u001b[38;5;241m=\u001b[39m generate_population(population_size, num_variables)\n\u001b[0;32m      4\u001b[0m \u001b[38;5;28;01mfor\u001b[39;00m _ \u001b[38;5;129;01min\u001b[39;00m \u001b[38;5;28mrange\u001b[39m(num_generations):\n\u001b[1;32m----> 5\u001b[0m     objectives \u001b[38;5;241m=\u001b[39m np\u001b[38;5;241m.\u001b[39marray([\u001b[43mobjective_functions\u001b[49m\u001b[43m(\u001b[49m\u001b[43mx\u001b[49m\u001b[43m)\u001b[49m \u001b[38;5;28;01mfor\u001b[39;00m x \u001b[38;5;129;01min\u001b[39;00m population])\n\u001b[0;32m      6\u001b[0m     fronts \u001b[38;5;241m=\u001b[39m non_dominated_sort(objectives)\n\u001b[0;32m      7\u001b[0m     selected_indices \u001b[38;5;241m=\u001b[39m selection(population, fronts)\n",
      "Cell \u001b[1;32mIn[41], line 16\u001b[0m, in \u001b[0;36mobjective_functions\u001b[1;34m(x)\u001b[0m\n\u001b[0;32m     15\u001b[0m \u001b[38;5;28;01mdef\u001b[39;00m \u001b[38;5;21mobjective_functions\u001b[39m(x):\n\u001b[1;32m---> 16\u001b[0m     P \u001b[38;5;241m=\u001b[39m \u001b[43mcalculate_core_loss\u001b[49m\u001b[43m(\u001b[49m\u001b[43mx\u001b[49m\u001b[43m)\u001b[49m  \u001b[38;5;66;03m# 磁芯损耗\u001b[39;00m\n\u001b[0;32m     17\u001b[0m     E \u001b[38;5;241m=\u001b[39m calculate_energy_transfer(x)  \u001b[38;5;66;03m# 传输磁能\u001b[39;00m\n\u001b[0;32m     18\u001b[0m     \u001b[38;5;28;01mreturn\u001b[39;00m P, \u001b[38;5;241m-\u001b[39mE\n",
      "Cell \u001b[1;32mIn[41], line 7\u001b[0m, in \u001b[0;36mcalculate_core_loss\u001b[1;34m(x)\u001b[0m\n\u001b[0;32m      5\u001b[0m \u001b[38;5;28;01mdef\u001b[39;00m \u001b[38;5;21mcalculate_core_loss\u001b[39m(x):\n\u001b[0;32m      6\u001b[0m     \u001b[38;5;66;03m# 计算磁芯损耗的示例函数\u001b[39;00m\n\u001b[1;32m----> 7\u001b[0m     P \u001b[38;5;241m=\u001b[39m \u001b[43mx\u001b[49m\u001b[43m[\u001b[49m\u001b[38;5;124;43m'\u001b[39;49m\u001b[38;5;124;43mT\u001b[39;49m\u001b[38;5;124;43m'\u001b[39;49m\u001b[43m]\u001b[49m \u001b[38;5;241m+\u001b[39m x[\u001b[38;5;124m'\u001b[39m\u001b[38;5;124mf\u001b[39m\u001b[38;5;124m'\u001b[39m] \u001b[38;5;241m+\u001b[39m x[\u001b[38;5;124m'\u001b[39m\u001b[38;5;124mW\u001b[39m\u001b[38;5;124m'\u001b[39m] \u001b[38;5;241m+\u001b[39m x[\u001b[38;5;124m'\u001b[39m\u001b[38;5;124mB_m\u001b[39m\u001b[38;5;124m'\u001b[39m] \u001b[38;5;241m+\u001b[39m x[\u001b[38;5;124m'\u001b[39m\u001b[38;5;124mM\u001b[39m\u001b[38;5;124m'\u001b[39m]\n\u001b[0;32m      8\u001b[0m     \u001b[38;5;28;01mreturn\u001b[39;00m P\n",
      "\u001b[1;31mIndexError\u001b[0m: only integers, slices (`:`), ellipsis (`...`), numpy.newaxis (`None`) and integer or boolean arrays are valid indices"
     ]
    }
   ],
   "source": [
    "# 运行NSGA-II\n",
    "x = df_g\n",
    "num_generations = 100\n",
    "population_size = 50\n",
    "num_variables = 2\n",
    "final_population = nsga_ii(num_generations, population_size, num_variables)"
   ]
  },
  {
   "cell_type": "code",
   "execution_count": 75,
   "id": "f43de8fd-869b-4fdb-8f4d-5fc79204790a",
   "metadata": {},
   "outputs": [
    {
     "data": {
      "text/plain": [
       "[0, 1, 4, 9]"
      ]
     },
     "execution_count": 75,
     "metadata": {},
     "output_type": "execute_result"
    }
   ],
   "source": [
    "[x **2 for x in range(4)]"
   ]
  },
  {
   "cell_type": "code",
   "execution_count": 55,
   "id": "2925e8b0-3eab-4a59-9746-e0e13f2d7b60",
   "metadata": {},
   "outputs": [
    {
     "ename": "NameError",
     "evalue": "name 'final_population' is not defined",
     "output_type": "error",
     "traceback": [
      "\u001b[1;31m---------------------------------------------------------------------------\u001b[0m",
      "\u001b[1;31mNameError\u001b[0m                                 Traceback (most recent call last)",
      "Cell \u001b[1;32mIn[55], line 2\u001b[0m\n\u001b[0;32m      1\u001b[0m \u001b[38;5;66;03m# 可视化结果\u001b[39;00m\n\u001b[1;32m----> 2\u001b[0m P_values \u001b[38;5;241m=\u001b[39m [calculate_core_loss(x) \u001b[38;5;28;01mfor\u001b[39;00m x \u001b[38;5;129;01min\u001b[39;00m \u001b[43mfinal_population\u001b[49m]\n\u001b[0;32m      3\u001b[0m E_values \u001b[38;5;241m=\u001b[39m [calculate_energy_transfer(x) \u001b[38;5;28;01mfor\u001b[39;00m x \u001b[38;5;129;01min\u001b[39;00m final_population]\n\u001b[0;32m      4\u001b[0m plt\u001b[38;5;241m.\u001b[39mscatter(P_values, \u001b[38;5;241m-\u001b[39mnp\u001b[38;5;241m.\u001b[39marray(E_values) \u001b[38;5;241m+\u001b[39m \u001b[38;5;241m10\u001b[39m)  \u001b[38;5;66;03m# 将能量值调整为正值以便可视化\u001b[39;00m\n",
      "\u001b[1;31mNameError\u001b[0m: name 'final_population' is not defined"
     ]
    }
   ],
   "source": [
    "# 可视化结果\n",
    "P_values = [calculate_core_loss(x) for x in final_population]\n",
    "E_values = [calculate_energy_transfer(x) for x in final_population]\n",
    "plt.scatter(P_values, -np.array(E_values) + 10)  # 将能量值调整为正值以便可视化\n",
    "plt.xlabel(\"Magnetic Core Loss (P)\")\n",
    "plt.ylabel(\"Energy Transfer (E)\")\n",
    "plt.title(\"NSGA-II Result for Magnetic Component Optimization\")\n",
    "plt.grid()\n",
    "plt.show()"
   ]
  },
  {
   "cell_type": "code",
   "execution_count": 16,
   "id": "4687d093-eb94-423e-9b1b-af974fb355d7",
   "metadata": {},
   "outputs": [],
   "source": [
    "import pandas as pd\n",
    "\n",
    "# 读取 Excel 文件中的一个工作表\n",
    "df = pd.read_excel('C:/Users/lenovo/Desktop/训练集.xlsx', sheet_name='材料1')  # 指定工作表名"
   ]
  },
  {
   "cell_type": "code",
   "execution_count": 17,
   "id": "30fac40f-bbbb-4540-aa9c-3ea64d85b1df",
   "metadata": {},
   "outputs": [],
   "source": [
    "import numpy as py\n",
    "df.rename(columns={df.columns[0]: 'T'}, inplace=True)\n",
    "df.rename(columns={df.columns[1]: 'f'}, inplace=True)\n",
    "df.rename(columns={df.columns[3]: 'W'}, inplace=True)"
   ]
  },
  {
   "cell_type": "code",
   "execution_count": 18,
   "id": "aa07085a-0de9-43da-8f1c-0f1c483041ca",
   "metadata": {},
   "outputs": [],
   "source": [
    "df=df.head()"
   ]
  },
  {
   "cell_type": "code",
   "execution_count": 19,
   "id": "55070832-127c-411a-823a-e967a23f4f28",
   "metadata": {},
   "outputs": [],
   "source": [
    "df_g = df"
   ]
  },
  {
   "cell_type": "code",
   "execution_count": 20,
   "id": "a586e3bb-3ee1-4e47-b104-8059b33db9c3",
   "metadata": {},
   "outputs": [],
   "source": [
    "df_g['W']=[1,3,3,2,1]"
   ]
  },
  {
   "cell_type": "code",
   "execution_count": 21,
   "id": "4d587508-e333-45fa-93e7-b7eb092cf089",
   "metadata": {},
   "outputs": [],
   "source": [
    "B_m = [0.014617341,0.015248251,0.014356664,0.019526706,0.022901776]"
   ]
  },
  {
   "cell_type": "code",
   "execution_count": 22,
   "id": "071ff837-4954-4fd3-bcbc-0fb9696992e7",
   "metadata": {},
   "outputs": [],
   "source": [
    "M = [1,3,4,2,3]"
   ]
  },
  {
   "cell_type": "code",
   "execution_count": 25,
   "id": "40623b3a-99ac-4707-a538-31fd1035a9c5",
   "metadata": {},
   "outputs": [],
   "source": [
    "data = [df_g.iloc[:,0],df_g.iloc[:,1],df_g.iloc[:,3],B_m,M]"
   ]
  },
  {
   "cell_type": "code",
   "execution_count": 31,
   "id": "6fd3f370-4477-44ff-a09b-506ff83e7346",
   "metadata": {},
   "outputs": [],
   "source": [
    "df_g['B_m'] = B_m\n",
    "df_g['M'] = M"
   ]
  },
  {
   "cell_type": "code",
   "execution_count": 33,
   "id": "162d0b34-e549-4384-aeca-0fa2efe94730",
   "metadata": {},
   "outputs": [
    {
     "data": {
      "text/html": [
       "<div>\n",
       "<style scoped>\n",
       "    .dataframe tbody tr th:only-of-type {\n",
       "        vertical-align: middle;\n",
       "    }\n",
       "\n",
       "    .dataframe tbody tr th {\n",
       "        vertical-align: top;\n",
       "    }\n",
       "\n",
       "    .dataframe thead th {\n",
       "        text-align: right;\n",
       "    }\n",
       "</style>\n",
       "<table border=\"1\" class=\"dataframe\">\n",
       "  <thead>\n",
       "    <tr style=\"text-align: right;\">\n",
       "      <th></th>\n",
       "      <th>T</th>\n",
       "      <th>f</th>\n",
       "      <th>磁芯损耗，w/m3</th>\n",
       "      <th>W</th>\n",
       "      <th>0（磁通密度B，T）</th>\n",
       "      <th>1</th>\n",
       "      <th>2</th>\n",
       "      <th>3</th>\n",
       "      <th>4</th>\n",
       "      <th>5</th>\n",
       "      <th>...</th>\n",
       "      <th>1016</th>\n",
       "      <th>1017</th>\n",
       "      <th>1018</th>\n",
       "      <th>1019</th>\n",
       "      <th>1020</th>\n",
       "      <th>1021</th>\n",
       "      <th>1022</th>\n",
       "      <th>1023</th>\n",
       "      <th>B_m</th>\n",
       "      <th>M</th>\n",
       "    </tr>\n",
       "  </thead>\n",
       "  <tbody>\n",
       "    <tr>\n",
       "      <th>0</th>\n",
       "      <td>25</td>\n",
       "      <td>50030</td>\n",
       "      <td>1997.955250</td>\n",
       "      <td>1</td>\n",
       "      <td>0.000213</td>\n",
       "      <td>0.000389</td>\n",
       "      <td>0.000566</td>\n",
       "      <td>0.000743</td>\n",
       "      <td>0.000919</td>\n",
       "      <td>0.001096</td>\n",
       "      <td>...</td>\n",
       "      <td>-0.001198</td>\n",
       "      <td>-0.001022</td>\n",
       "      <td>-0.000846</td>\n",
       "      <td>-0.000669</td>\n",
       "      <td>-0.000492</td>\n",
       "      <td>-0.000316</td>\n",
       "      <td>-0.000140</td>\n",
       "      <td>0.000036</td>\n",
       "      <td>0.014617</td>\n",
       "      <td>1</td>\n",
       "    </tr>\n",
       "    <tr>\n",
       "      <th>1</th>\n",
       "      <td>25</td>\n",
       "      <td>50020</td>\n",
       "      <td>2427.749830</td>\n",
       "      <td>3</td>\n",
       "      <td>-0.000551</td>\n",
       "      <td>-0.000358</td>\n",
       "      <td>-0.000165</td>\n",
       "      <td>0.000028</td>\n",
       "      <td>0.000221</td>\n",
       "      <td>0.000413</td>\n",
       "      <td>...</td>\n",
       "      <td>-0.002091</td>\n",
       "      <td>-0.001899</td>\n",
       "      <td>-0.001707</td>\n",
       "      <td>-0.001515</td>\n",
       "      <td>-0.001322</td>\n",
       "      <td>-0.001129</td>\n",
       "      <td>-0.000937</td>\n",
       "      <td>-0.000744</td>\n",
       "      <td>0.015248</td>\n",
       "      <td>3</td>\n",
       "    </tr>\n",
       "    <tr>\n",
       "      <th>2</th>\n",
       "      <td>25</td>\n",
       "      <td>50020</td>\n",
       "      <td>3332.725760</td>\n",
       "      <td>3</td>\n",
       "      <td>-0.003780</td>\n",
       "      <td>-0.003564</td>\n",
       "      <td>-0.003349</td>\n",
       "      <td>-0.003134</td>\n",
       "      <td>-0.002919</td>\n",
       "      <td>-0.002704</td>\n",
       "      <td>...</td>\n",
       "      <td>-0.005499</td>\n",
       "      <td>-0.005285</td>\n",
       "      <td>-0.005070</td>\n",
       "      <td>-0.004855</td>\n",
       "      <td>-0.004640</td>\n",
       "      <td>-0.004425</td>\n",
       "      <td>-0.004210</td>\n",
       "      <td>-0.003995</td>\n",
       "      <td>0.014357</td>\n",
       "      <td>4</td>\n",
       "    </tr>\n",
       "    <tr>\n",
       "      <th>3</th>\n",
       "      <td>25</td>\n",
       "      <td>50020</td>\n",
       "      <td>4502.908007</td>\n",
       "      <td>2</td>\n",
       "      <td>-0.000511</td>\n",
       "      <td>-0.000267</td>\n",
       "      <td>-0.000023</td>\n",
       "      <td>0.000222</td>\n",
       "      <td>0.000466</td>\n",
       "      <td>0.000711</td>\n",
       "      <td>...</td>\n",
       "      <td>-0.002463</td>\n",
       "      <td>-0.002220</td>\n",
       "      <td>-0.001976</td>\n",
       "      <td>-0.001732</td>\n",
       "      <td>-0.001488</td>\n",
       "      <td>-0.001244</td>\n",
       "      <td>-0.001000</td>\n",
       "      <td>-0.000756</td>\n",
       "      <td>0.019527</td>\n",
       "      <td>2</td>\n",
       "    </tr>\n",
       "    <tr>\n",
       "      <th>4</th>\n",
       "      <td>25</td>\n",
       "      <td>50030</td>\n",
       "      <td>6063.023248</td>\n",
       "      <td>1</td>\n",
       "      <td>0.000458</td>\n",
       "      <td>0.000732</td>\n",
       "      <td>0.001007</td>\n",
       "      <td>0.001281</td>\n",
       "      <td>0.001555</td>\n",
       "      <td>0.001830</td>\n",
       "      <td>...</td>\n",
       "      <td>-0.001741</td>\n",
       "      <td>-0.001466</td>\n",
       "      <td>-0.001192</td>\n",
       "      <td>-0.000917</td>\n",
       "      <td>-0.000642</td>\n",
       "      <td>-0.000367</td>\n",
       "      <td>-0.000092</td>\n",
       "      <td>0.000183</td>\n",
       "      <td>0.022902</td>\n",
       "      <td>3</td>\n",
       "    </tr>\n",
       "  </tbody>\n",
       "</table>\n",
       "<p>5 rows × 1030 columns</p>\n",
       "</div>"
      ],
      "text/plain": [
       "    T      f    磁芯损耗，w/m3  W  0（磁通密度B，T）         1         2         3  \\\n",
       "0  25  50030  1997.955250  1    0.000213  0.000389  0.000566  0.000743   \n",
       "1  25  50020  2427.749830  3   -0.000551 -0.000358 -0.000165  0.000028   \n",
       "2  25  50020  3332.725760  3   -0.003780 -0.003564 -0.003349 -0.003134   \n",
       "3  25  50020  4502.908007  2   -0.000511 -0.000267 -0.000023  0.000222   \n",
       "4  25  50030  6063.023248  1    0.000458  0.000732  0.001007  0.001281   \n",
       "\n",
       "          4         5  ...      1016      1017      1018      1019      1020  \\\n",
       "0  0.000919  0.001096  ... -0.001198 -0.001022 -0.000846 -0.000669 -0.000492   \n",
       "1  0.000221  0.000413  ... -0.002091 -0.001899 -0.001707 -0.001515 -0.001322   \n",
       "2 -0.002919 -0.002704  ... -0.005499 -0.005285 -0.005070 -0.004855 -0.004640   \n",
       "3  0.000466  0.000711  ... -0.002463 -0.002220 -0.001976 -0.001732 -0.001488   \n",
       "4  0.001555  0.001830  ... -0.001741 -0.001466 -0.001192 -0.000917 -0.000642   \n",
       "\n",
       "       1021      1022      1023       B_m  M  \n",
       "0 -0.000316 -0.000140  0.000036  0.014617  1  \n",
       "1 -0.001129 -0.000937 -0.000744  0.015248  3  \n",
       "2 -0.004425 -0.004210 -0.003995  0.014357  4  \n",
       "3 -0.001244 -0.001000 -0.000756  0.019527  2  \n",
       "4 -0.000367 -0.000092  0.000183  0.022902  3  \n",
       "\n",
       "[5 rows x 1030 columns]"
      ]
     },
     "execution_count": 33,
     "metadata": {},
     "output_type": "execute_result"
    }
   ],
   "source": [
    "df_g"
   ]
  },
  {
   "cell_type": "code",
   "execution_count": 72,
   "id": "e9597fe4-c255-430d-a3f6-c9339207968f",
   "metadata": {},
   "outputs": [],
   "source": [
    "q = df_g['f'] * df_g['B_m']\n",
    "p = df_g['T'] + df_g['f'] "
   ]
  },
  {
   "cell_type": "code",
   "execution_count": 73,
   "id": "de289842-92d9-4c9a-8af2-fe300419c226",
   "metadata": {},
   "outputs": [
    {
     "data": {
      "text/plain": [
       "0    50055\n",
       "1    50045\n",
       "2    50045\n",
       "3    50045\n",
       "4    50055\n",
       "dtype: int64"
      ]
     },
     "execution_count": 73,
     "metadata": {},
     "output_type": "execute_result"
    }
   ],
   "source": [
    "p"
   ]
  },
  {
   "cell_type": "code",
   "execution_count": 74,
   "id": "3861f504-ab27-4270-b1f8-55b0d73d0b85",
   "metadata": {},
   "outputs": [],
   "source": [
    "Q = np.array(q)"
   ]
  }
 ],
 "metadata": {
  "kernelspec": {
   "display_name": "Python 3 (ipykernel)",
   "language": "python",
   "name": "python3"
  },
  "language_info": {
   "codemirror_mode": {
    "name": "ipython",
    "version": 3
   },
   "file_extension": ".py",
   "mimetype": "text/x-python",
   "name": "python",
   "nbconvert_exporter": "python",
   "pygments_lexer": "ipython3",
   "version": "3.9.19"
  }
 },
 "nbformat": 4,
 "nbformat_minor": 5
}
